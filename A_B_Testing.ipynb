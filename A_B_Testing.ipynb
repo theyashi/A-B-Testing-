{
  "nbformat": 4,
  "nbformat_minor": 0,
  "metadata": {
    "colab": {
      "provenance": []
    },
    "kernelspec": {
      "name": "python3",
      "display_name": "Python 3"
    },
    "language_info": {
      "name": "python"
    }
  },
  "cells": [
    {
      "cell_type": "code",
      "execution_count": null,
      "metadata": {
        "colab": {
          "base_uri": "https://localhost:8080/"
        },
        "id": "YKpMQ1qFoAie",
        "outputId": "083e9116-a447-44f6-9ba5-90f99e54c56b"
      },
      "outputs": [
        {
          "output_type": "stream",
          "name": "stdout",
          "text": [
            "A/B Testing Results:\n",
            "Version A: 97 clicks (9.70% click-through rate)\n",
            "Version B: 144 clicks (14.40% click-through rate)\n"
          ]
        }
      ],
      "source": [
        "import random\n",
        "\n",
        "# Simulating user clicks for each variation\n",
        "def simulate_clicks(variation, num_users):\n",
        "    if variation == \"Version A\":\n",
        "        # Simulating click-through rates for Version A\n",
        "        click_rate = 0.1  # 10% click-through rate\n",
        "    elif variation == \"Version B\":\n",
        "        # Simulating click-through rates for Version B\n",
        "        click_rate = 0.15  # 15% click-through rate\n",
        "    else:\n",
        "        return 0\n",
        "\n",
        "    clicks = sum(1 for _ in range(num_users) if random.random() <= click_rate)\n",
        "    return clicks\n",
        "\n",
        "# A/B testing function\n",
        "def perform_ab_test(num_users):\n",
        "    # Define the variations to be tested\n",
        "    variations = [\"Version A\", \"Version B\"]\n",
        "\n",
        "    # Track the number of clicks for each variation\n",
        "    clicks = {}\n",
        "\n",
        "    # Simulate user clicks for each variation\n",
        "    for variation in variations:\n",
        "        num_clicks = simulate_clicks(variation, num_users)\n",
        "        clicks[variation] = num_clicks\n",
        "\n",
        "    # Print the results\n",
        "    print(\"A/B Testing Results:\")\n",
        "    for variation, num_clicks in clicks.items():\n",
        "        click_rate = num_clicks / num_users\n",
        "        print(f\"{variation}: {num_clicks} clicks ({click_rate * 100:.2f}% click-through rate)\")\n",
        "\n",
        "# Run the A/B test\n",
        "num_users = 1000\n",
        "perform_ab_test(num_users)\n"
      ]
    }
  ]
}